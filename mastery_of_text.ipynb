{
 "cells": [
  {
   "cell_type": "code",
   "execution_count": 1,
   "id": "68674e61-a7a7-4a4f-aea2-67e5fb92647c",
   "metadata": {},
   "outputs": [],
   "source": [
    "import urllib.request\n",
    "pg10 = urllib.request.urlopen(\"https://www.gutenberg.org/cache/epub/10/pg10.txt\").read().decode(\"utf-8\")"
   ]
  },
  {
   "cell_type": "code",
   "execution_count": 2,
   "id": "dec2ea16-b1c4-467b-8c5d-ff66c2f5a511",
   "metadata": {},
   "outputs": [
    {
     "data": {
      "text/plain": [
       "'1. The string has 99969 lines.'"
      ]
     },
     "execution_count": 2,
     "metadata": {},
     "output_type": "execute_result"
    }
   ],
   "source": [
    "f\"1. The string has {pg10.count(\"\\n\")+1} lines.\""
   ]
  },
  {
   "cell_type": "code",
   "execution_count": 3,
   "id": "6148f37f-17b0-4290-8ce4-f6cc1800e8c3",
   "metadata": {},
   "outputs": [
    {
     "data": {
      "text/plain": [
       "'2. The string has 824538 words.'"
      ]
     },
     "execution_count": 3,
     "metadata": {},
     "output_type": "execute_result"
    }
   ],
   "source": [
    "f\"2. The string has {len(pg10.split())} words.\""
   ]
  },
  {
   "cell_type": "code",
   "execution_count": 4,
   "id": "a4330059-3fb0-4617-a0ed-e229ad367f6f",
   "metadata": {},
   "outputs": [
    {
     "data": {
      "text/plain": [
       "'3. The word \"apostle\", ignoring capitalization, appears 113 times in the string.'"
      ]
     },
     "execution_count": 4,
     "metadata": {},
     "output_type": "execute_result"
    }
   ],
   "source": [
    "f'3. The word \"apostle\", ignoring capitalization, appears {pg10.lower().count(\"apostle\")} times in the string.'"
   ]
  },
  {
   "cell_type": "code",
   "execution_count": 5,
   "id": "839193dc-d60d-4f05-a291-f74d4ba1498a",
   "metadata": {},
   "outputs": [
    {
     "data": {
      "text/plain": [
       "'4. The most common word, ignoring capitalization, in the string is \"the\".'"
      ]
     },
     "execution_count": 5,
     "metadata": {},
     "output_type": "execute_result"
    }
   ],
   "source": [
    "def common():\n",
    "    clean = \"\"\n",
    "    d = {}\n",
    "    max = 0\n",
    "    result = \"\"\n",
    "    for char in pg10.lower():\n",
    "        if char.isalpha() or char.isspace():\n",
    "            clean += char\n",
    "    for word in clean.split():\n",
    "        if word in d:\n",
    "            d[word] += 1\n",
    "        else:\n",
    "            d[word] = 1\n",
    "    for word in d:\n",
    "        if d[word] > max:\n",
    "            max = d[word]\n",
    "            result = word\n",
    "    return result\n",
    "\n",
    "f'4. The most common word, ignoring capitalization, in the string is \"{common()}\".'"
   ]
  },
  {
   "cell_type": "code",
   "execution_count": null,
   "id": "bca06bde-7325-4e37-bf32-dba278f21bd8",
   "metadata": {},
   "outputs": [],
   "source": []
  }
 ],
 "metadata": {
  "kernelspec": {
   "display_name": "Python [conda env:base] *",
   "language": "python",
   "name": "conda-base-py"
  },
  "language_info": {
   "codemirror_mode": {
    "name": "ipython",
    "version": 3
   },
   "file_extension": ".py",
   "mimetype": "text/x-python",
   "name": "python",
   "nbconvert_exporter": "python",
   "pygments_lexer": "ipython3",
   "version": "3.12.7"
  }
 },
 "nbformat": 4,
 "nbformat_minor": 5
}
